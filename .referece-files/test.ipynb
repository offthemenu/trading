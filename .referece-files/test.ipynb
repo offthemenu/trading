{
 "cells": [
  {
   "cell_type": "code",
   "execution_count": 2,
   "id": "0ca428c0",
   "metadata": {},
   "outputs": [],
   "source": [
    "import yfinance as yf\n",
    "import pandas as pd"
   ]
  },
  {
   "cell_type": "code",
   "execution_count": null,
   "id": "26283c17",
   "metadata": {},
   "outputs": [],
   "source": [
    "def calculate_ema(df, span):\n",
    "    return df['Close'].ewm(span=span, adjust=False).mean()\n",
    "\n",
    "def calculate_atr(df, period=14):\n",
    "    high_low = df['High'] - df['Low']\n",
    "    high_close = abs(df['High'] - df['Close'].shift())\n",
    "    low_close = abs(df['Low'] - df['Close'].shift())\n",
    "    ranges = pd.concat([high_low, high_close, low_close], axis=1)\n",
    "    true_range = ranges.max(axis=1)\n",
    "    return true_range.rolling(period).mean()\n",
    "\n",
    "def calculate_rsi(df, period=14):\n",
    "    delta = df['Close'].diff()\n",
    "    gain = delta.where(delta > 0, 0)\n",
    "    loss = -delta.where(delta < 0, 0)\n",
    "    avg_gain = gain.rolling(period).mean()\n",
    "    avg_loss = loss.rolling(period).mean()\n",
    "    rs = avg_gain / avg_loss\n",
    "    return 100 - (100 / (1 + rs))\n",
    "\n",
    "df = yf.download(\"QQQM\", period='100d', auto_adjust=True)\n",
    "\n",
    "df['EMA10'] = calculate_ema(df, 10)\n",
    "df['EMA50'] = calculate_ema(df, 50)\n",
    "df['ATR'] = calculate_atr(df, 14)\n",
    "df['RSI'] = calculate_rsi(df, 14)\n",
    "df['Volume_SMA'] = df['Volume'].rolling(20).mean()\n",
    "\n",
    "df.dropna(inplace=True)\n",
    "\n",
    "if df.empty:\n",
    "    print(f\"⚠️ Insufficient data to generate signal for {\"QQQM\"}\")\n",
    "\n",
    "latest = df.iloc[-1:]\n",
    "\n",
    "try:\n",
    "    ema10 = float(latest['EMA10'].iloc[0])\n",
    "    ema50 = float(latest['EMA50'].iloc[0])\n",
    "    atr = float(latest['ATR'].iloc[0])\n",
    "    close = float(latest['Close'].iloc[0])\n",
    "    volume = int(latest['Volume'].iloc[0])\n",
    "    volume_sma = float(latest['Volume_SMA'].iloc[0])\n",
    "    rsi = float(latest['RSI'].iloc[0])\n",
    "    \n",
    "    print(rsi)\n",
    "except Exception as e:\n",
    "    print(f\"⚠️ Failed to extract indicators for {\"QQQM\"}: {e}\")"
   ]
  },
  {
   "cell_type": "code",
   "execution_count": 17,
   "id": "5f4ab12a",
   "metadata": {},
   "outputs": [
    {
     "name": "stdout",
     "output_type": "stream",
     "text": [
      "→ Fetching QQQM from IBKR...\n",
      "[QQQM] ✅ 100 rows loaded.\n",
      "→ Fetching VOO from IBKR...\n",
      "[VOO] ✅ 100 rows loaded.\n",
      "→ Fetching IAU from IBKR...\n",
      "[IAU] ✅ 100 rows loaded.\n",
      "→ Fetching IEFA from IBKR...\n",
      "[IEFA] ✅ 100 rows loaded.\n",
      "→ Fetching MCHI from IBKR...\n",
      "[MCHI] ✅ 100 rows loaded.\n"
     ]
    }
   ],
   "source": [
    "import pandas as pd\n",
    "from ib_insync import IB, Stock\n",
    "from datetime import datetime\n",
    "import nest_asyncio\n",
    "import asyncio\n",
    "\n",
    "nest_asyncio.apply()  # ← Required to re-enter the event loop in Jupyter\n",
    "\n",
    "ib = IB()\n",
    "\n",
    "# 👇 This must be awaited inside an async def block\n",
    "async def main():\n",
    "    await ib.connectAsync('127.0.0.1', 7497, clientId=111)\n",
    "\n",
    "    WATCHLIST = ['QQQM', 'VOO', 'IAU', 'IEFA', 'MCHI']\n",
    "    result_dfs = {}\n",
    "\n",
    "    for symbol in WATCHLIST:\n",
    "        print(f\"→ Fetching {symbol} from IBKR...\")\n",
    "        contract = Stock(symbol, 'SMART', 'USD')\n",
    "        ib.qualifyContracts(contract)\n",
    "\n",
    "        bars = ib.reqHistoricalData(\n",
    "            contract,\n",
    "            endDateTime='',\n",
    "            durationStr='100 D',\n",
    "            barSizeSetting='1 day',\n",
    "            whatToShow='TRADES',\n",
    "            useRTH=True,\n",
    "            formatDate=1\n",
    "        )\n",
    "\n",
    "        df = pd.DataFrame(bars)\n",
    "        df.rename(columns={\n",
    "            'close': 'Close',\n",
    "            'high': 'High',\n",
    "            'low': 'Low',\n",
    "            'volume': 'Volume'\n",
    "        }, inplace=True)\n",
    "\n",
    "        print(f\"[{symbol}] ✅ {len(df)} rows loaded.\")\n",
    "        result_dfs[symbol] = df\n",
    "    \n",
    "    return result_dfs\n",
    "\n",
    "# Run the async event loop\n",
    "dfs = asyncio.run(main())"
   ]
  },
  {
   "cell_type": "code",
   "execution_count": 26,
   "id": "6d39234d",
   "metadata": {},
   "outputs": [
    {
     "name": "stdout",
     "output_type": "stream",
     "text": [
      "          date    open    High     Low   Close     Volume  average  barCount\n",
      "99  2025-04-23  188.64  190.77  186.46  187.07  2744304.0  188.789     12258\n",
      "98  2025-04-22  180.70  184.27  180.18  183.00  1935101.0  182.336      7013\n",
      "97  2025-04-21  180.44  180.78  176.19  178.40  1757461.0  177.787      6174\n",
      "96  2025-04-17  184.12  184.35  181.74  182.86  2357877.0  183.119      9213\n",
      "95  2025-04-16  184.86  186.34  180.25  182.90  2527429.0  183.160      8881\n",
      "..         ...     ...     ...     ...     ...        ...      ...       ...\n",
      "4   2024-12-03  211.54  212.85  211.32  212.75   742986.0  212.175      2614\n",
      "3   2024-12-02  210.33  212.49  210.23  212.10  1348158.0  211.775      4424\n",
      "2   2024-11-29  208.24  210.03  207.98  209.80   604074.0  209.239      2270\n",
      "1   2024-11-27  209.15  209.19  206.61  208.00  1101152.0  207.765      3222\n",
      "0   2024-11-26  209.12  209.95  208.78  209.63   914191.0  209.448      2766\n",
      "\n",
      "[100 rows x 8 columns]\n"
     ]
    }
   ],
   "source": [
    "print(dfs[\"QQQM\"].sort_values(by=[\"date\"], ascending=False))"
   ]
  },
  {
   "cell_type": "code",
   "execution_count": null,
   "id": "edc3e047",
   "metadata": {},
   "outputs": [],
   "source": []
  }
 ],
 "metadata": {
  "kernelspec": {
   "display_name": ".venv",
   "language": "python",
   "name": "python3"
  },
  "language_info": {
   "codemirror_mode": {
    "name": "ipython",
    "version": 3
   },
   "file_extension": ".py",
   "mimetype": "text/x-python",
   "name": "python",
   "nbconvert_exporter": "python",
   "pygments_lexer": "ipython3",
   "version": "3.12.0"
  }
 },
 "nbformat": 4,
 "nbformat_minor": 5
}
